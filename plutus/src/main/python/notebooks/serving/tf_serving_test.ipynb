{
 "cells": [
  {
   "cell_type": "code",
   "execution_count": 1,
   "metadata": {
    "collapsed": true
   },
   "outputs": [],
   "source": [
    "from plutus.data import generate_random_tf_example, generate_random_grpc_query, generate_random_pandas\n",
    "from plutus.features import default_model_features, default_model_targets, get_model_features\n",
    "import grpc\n",
    "from tensorflow_serving.apis import predict_pb2\n",
    "from tensorflow_serving.apis import prediction_service_pb2_grpc\n",
    "import tensorflow as tf"
   ]
  },
  {
   "cell_type": "code",
   "execution_count": 9,
   "outputs": [
    {
     "name": "stdout",
     "output_type": "stream",
     "text": [
      "features {\n",
      "  feature {\n",
      "    key: \"AdFormat\"\n",
      "    value {\n",
      "      int64_list {\n",
      "        value: 69\n",
      "      }\n",
      "    }\n",
      "  }\n",
      "  feature {\n",
      "    key: \"AdsTxtSellerType\"\n",
      "    value {\n",
      "      int64_list {\n",
      "        value: 5\n",
      "      }\n",
      "    }\n",
      "  }\n",
      "  feature {\n",
      "    key: \"AuctionBidPrice\"\n",
      "    value {\n",
      "      float_list {\n",
      "        value: 0.1402319073677063\n",
      "      }\n",
      "    }\n",
      "  }\n",
      "  feature {\n",
      "    key: \"Browser\"\n",
      "    value {\n",
      "      int64_list {\n",
      "        value: 17\n",
      "      }\n",
      "    }\n",
      "  }\n",
      "  feature {\n",
      "    key: \"City\"\n",
      "    value {\n",
      "      int64_list {\n",
      "        value: 51562\n",
      "      }\n",
      "    }\n",
      "  }\n",
      "  feature {\n",
      "    key: \"Country\"\n",
      "    value {\n",
      "      int64_list {\n",
      "        value: 208\n",
      "      }\n",
      "    }\n",
      "  }\n",
      "  feature {\n",
      "    key: \"DealId\"\n",
      "    value {\n",
      "      int64_list {\n",
      "        value: 3161\n",
      "      }\n",
      "    }\n",
      "  }\n",
      "  feature {\n",
      "    key: \"DeviceMake\"\n",
      "    value {\n",
      "      int64_list {\n",
      "        value: 517\n",
      "      }\n",
      "    }\n",
      "  }\n",
      "  feature {\n",
      "    key: \"DeviceModel\"\n",
      "    value {\n",
      "      int64_list {\n",
      "        value: 679\n",
      "      }\n",
      "    }\n",
      "  }\n",
      "  feature {\n",
      "    key: \"DeviceType\"\n",
      "    value {\n",
      "      int64_list {\n",
      "        value: 5\n",
      "      }\n",
      "    }\n",
      "  }\n",
      "  feature {\n",
      "    key: \"FloorPriceInUSD\"\n",
      "    value {\n",
      "      float_list {\n",
      "        value: 0.879643976688385\n",
      "      }\n",
      "    }\n",
      "  }\n",
      "  feature {\n",
      "    key: \"ImpressionPlacementId\"\n",
      "    value {\n",
      "      int64_list {\n",
      "        value: 99\n",
      "      }\n",
      "    }\n",
      "  }\n",
      "  feature {\n",
      "    key: \"Metro\"\n",
      "    value {\n",
      "      int64_list {\n",
      "        value: 196\n",
      "      }\n",
      "    }\n",
      "  }\n",
      "  feature {\n",
      "    key: \"OperatingSystemFamily\"\n",
      "    value {\n",
      "      int64_list {\n",
      "        value: 4\n",
      "      }\n",
      "    }\n",
      "  }\n",
      "  feature {\n",
      "    key: \"PublisherType\"\n",
      "    value {\n",
      "      int64_list {\n",
      "        value: 3\n",
      "      }\n",
      "    }\n",
      "  }\n",
      "  feature {\n",
      "    key: \"RealMediaCost\"\n",
      "    value {\n",
      "      float_list {\n",
      "        value: 0.006025826092809439\n",
      "      }\n",
      "    }\n",
      "  }\n",
      "  feature {\n",
      "    key: \"Region\"\n",
      "    value {\n",
      "      int64_list {\n",
      "        value: 3773\n",
      "      }\n",
      "    }\n",
      "  }\n",
      "  feature {\n",
      "    key: \"RenderingContext\"\n",
      "    value {\n",
      "      int64_list {\n",
      "        value: 4\n",
      "      }\n",
      "    }\n",
      "  }\n",
      "  feature {\n",
      "    key: \"RequestLanguages\"\n",
      "    value {\n",
      "      int64_list {\n",
      "        value: 178\n",
      "      }\n",
      "    }\n",
      "  }\n",
      "  feature {\n",
      "    key: \"Site\"\n",
      "    value {\n",
      "      int64_list {\n",
      "        value: 254075\n",
      "      }\n",
      "    }\n",
      "  }\n",
      "  feature {\n",
      "    key: \"SupplyVendor\"\n",
      "    value {\n",
      "      int64_list {\n",
      "        value: 94\n",
      "      }\n",
      "    }\n",
      "  }\n",
      "  feature {\n",
      "    key: \"SupplyVendorPublisherId\"\n",
      "    value {\n",
      "      int64_list {\n",
      "        value: 8102\n",
      "      }\n",
      "    }\n",
      "  }\n",
      "  feature {\n",
      "    key: \"SupplyVendorSiteId\"\n",
      "    value {\n",
      "      int64_list {\n",
      "        value: 24\n",
      "      }\n",
      "    }\n",
      "  }\n",
      "  feature {\n",
      "    key: \"UserHourOfWeek\"\n",
      "    value {\n",
      "      int64_list {\n",
      "        value: 17\n",
      "      }\n",
      "    }\n",
      "  }\n",
      "  feature {\n",
      "    key: \"Zip\"\n",
      "    value {\n",
      "      int64_list {\n",
      "        value: 30760\n",
      "      }\n",
      "    }\n",
      "  }\n",
      "  feature {\n",
      "    key: \"cos_hour_day\"\n",
      "    value {\n",
      "      float_list {\n",
      "        value: 0.07609639316797256\n",
      "      }\n",
      "    }\n",
      "  }\n",
      "  feature {\n",
      "    key: \"cos_hour_week\"\n",
      "    value {\n",
      "      float_list {\n",
      "        value: 0.07844436913728714\n",
      "      }\n",
      "    }\n",
      "  }\n",
      "  feature {\n",
      "    key: \"cos_minute_hour\"\n",
      "    value {\n",
      "      float_list {\n",
      "        value: 0.4197548031806946\n",
      "      }\n",
      "    }\n",
      "  }\n",
      "  feature {\n",
      "    key: \"is_imp\"\n",
      "    value {\n",
      "      float_list {\n",
      "        value: 0.8717548847198486\n",
      "      }\n",
      "    }\n",
      "  }\n",
      "  feature {\n",
      "    key: \"latitude\"\n",
      "    value {\n",
      "      float_list {\n",
      "        value: 0.23792409896850586\n",
      "      }\n",
      "    }\n",
      "  }\n",
      "  feature {\n",
      "    key: \"longitude\"\n",
      "    value {\n",
      "      float_list {\n",
      "        value: 0.8565163016319275\n",
      "      }\n",
      "    }\n",
      "  }\n",
      "  feature {\n",
      "    key: \"mb2w\"\n",
      "    value {\n",
      "      float_list {\n",
      "        value: 0.15151512622833252\n",
      "      }\n",
      "    }\n",
      "  }\n",
      "  feature {\n",
      "    key: \"sin_hour_day\"\n",
      "    value {\n",
      "      float_list {\n",
      "        value: 0.21052977442741394\n",
      "      }\n",
      "    }\n",
      "  }\n",
      "  feature {\n",
      "    key: \"sin_hour_week\"\n",
      "    value {\n",
      "      float_list {\n",
      "        value: 0.43465524911880493\n",
      "      }\n",
      "    }\n",
      "  }\n",
      "  feature {\n",
      "    key: \"sin_minute_hour\"\n",
      "    value {\n",
      "      float_list {\n",
      "        value: 0.9055819511413574\n",
      "      }\n",
      "    }\n",
      "  }\n",
      "}\n",
      "\n"
     ]
    }
   ],
   "source": [
    "x = generate_random_tf_example(default_model_features, default_model_targets)\n",
    "print(x)"
   ],
   "metadata": {
    "collapsed": false,
    "pycharm": {
     "name": "#%%\n"
    }
   }
  },
  {
   "cell_type": "markdown",
   "source": [
    "Start docker\n",
    "Start Docker\n",
    "\n",
    "```sh\n",
    "docker run -it --cpus=1 --rm --entrypoint=/bin/bash -p 8500:8500 -p 8501:8501 -v /local/models/:/models -t tensorflow/serving:latest\n",
    "```\n",
    "\n",
    "To allow for multiple versions of the same model you need (see [docs](https://www.tensorflow.org/tfx/serving/serving_config))\n",
    "* use a config file\n",
    "* TF Serving will only load the highest version by default\n",
    "    * Need to pass this arg to allow multiple versions\n",
    "    * --allow_version_labels_for_unavailable_models\n",
    "\n",
    "\n",
    "```sh\n",
    "tensorflow_model_server --port=8500 --rest_api_port=0 --prefer_tflite_model --model_config_file=/models/model_config.conf --allow_version_labels_for_unavailable_models\n",
    "```\n",
    "\n",
    "Important:\n",
    "* expected to have version in the path\n",
    "\n",
    "```json\n",
    "model_config_list: {\n",
    "    config: {\n",
    "        name: \"MODEL_NAME\",\n",
    "        base_path: \"/models/MODEL_DIR\",\n",
    "        model_platform: \"tensorflow\",\n",
    "        model_version_policy: {\n",
    "            specific {\n",
    "                versions: 1\n",
    "                versions: 2\n",
    "            }\n",
    "        }\n",
    "        version_labels {\n",
    "          key: 'prod'\n",
    "          value: 1\n",
    "        }\n",
    "        version_labels {\n",
    "          key: 'test'\n",
    "          value: 2\n",
    "        }\n",
    "    }\n",
    "}\n",
    "```"
   ],
   "metadata": {
    "collapsed": false,
    "pycharm": {
     "name": "#%% md\n"
    }
   }
  },
  {
   "cell_type": "code",
   "source": [
    "def send_grpc_request(stub, req, timeout=10):\n",
    "    return stub.Predict(req, timeout)\n",
    "\n",
    "channel = grpc.insecure_channel('0.0.0.0:8500')\n",
    "\n"
   ],
   "metadata": {
    "collapsed": false,
    "pycharm": {
     "name": "#%%\n"
    }
   },
   "execution_count": 2,
   "outputs": []
  },
  {
   "cell_type": "code",
   "execution_count": 3,
   "outputs": [
    {
     "data": {
      "text/plain": "[Feature(name='SupplyVendor', sparse=True, type=tf.int32, cardinality=102, default_value=0, enabled=True, embedding_dim=16, qr_embed=False, qr_collisions=4),\n Feature(name='SupplyVendorPublisherId', sparse=True, type=tf.int32, cardinality=15002, default_value=0, enabled=True, embedding_dim=16, qr_embed=False, qr_collisions=4),\n Feature(name='SupplyVendorSiteId', sparse=True, type=tf.int32, cardinality=102, default_value=0, enabled=True, embedding_dim=16, qr_embed=False, qr_collisions=4),\n Feature(name='Site', sparse=True, type=tf.int32, cardinality=350002, default_value=0, enabled=True, embedding_dim=16, qr_embed=False, qr_collisions=4),\n Feature(name='Country', sparse=True, type=tf.int32, cardinality=252, default_value=0, enabled=True, embedding_dim=16, qr_embed=False, qr_collisions=4),\n Feature(name='Region', sparse=True, type=tf.int32, cardinality=4002, default_value=0, enabled=True, embedding_dim=16, qr_embed=False, qr_collisions=4),\n Feature(name='Metro', sparse=True, type=tf.int32, cardinality=302, default_value=0, enabled=True, embedding_dim=16, qr_embed=False, qr_collisions=4),\n Feature(name='City', sparse=True, type=tf.int32, cardinality=75002, default_value=0, enabled=True, embedding_dim=16, qr_embed=False, qr_collisions=4),\n Feature(name='Zip', sparse=True, type=tf.int32, cardinality=90002, default_value=0, enabled=True, embedding_dim=16, qr_embed=False, qr_collisions=4),\n Feature(name='DeviceMake', sparse=True, type=tf.int32, cardinality=1002, default_value=0, enabled=True, embedding_dim=16, qr_embed=False, qr_collisions=4),\n Feature(name='DeviceModel', sparse=True, type=tf.int32, cardinality=10002, default_value=0, enabled=True, embedding_dim=16, qr_embed=False, qr_collisions=4),\n Feature(name='RequestLanguages', sparse=True, type=tf.int32, cardinality=502, default_value=0, enabled=True, embedding_dim=16, qr_embed=False, qr_collisions=4),\n Feature(name='RenderingContext', sparse=True, type=tf.int32, cardinality=6, default_value=0, enabled=True, embedding_dim=16, qr_embed=False, qr_collisions=4),\n Feature(name='UserHourOfWeek', sparse=True, type=tf.int32, cardinality=170, default_value=0, enabled=True, embedding_dim=16, qr_embed=False, qr_collisions=4),\n Feature(name='AdsTxtSellerType', sparse=True, type=tf.int32, cardinality=7, default_value=0, enabled=True, embedding_dim=16, qr_embed=False, qr_collisions=4),\n Feature(name='PublisherType', sparse=True, type=tf.int32, cardinality=7, default_value=0, enabled=True, embedding_dim=16, qr_embed=False, qr_collisions=4),\n Feature(name='DeviceType', sparse=True, type=tf.int32, cardinality=9, default_value=0, enabled=True, embedding_dim=16, qr_embed=False, qr_collisions=4),\n Feature(name='OperatingSystemFamily', sparse=True, type=tf.int32, cardinality=10, default_value=0, enabled=True, embedding_dim=16, qr_embed=False, qr_collisions=4),\n Feature(name='Browser', sparse=True, type=tf.int32, cardinality=20, default_value=0, enabled=True, embedding_dim=16, qr_embed=False, qr_collisions=4),\n Feature(name='sin_hour_day', sparse=False, type=tf.float32, cardinality=1, default_value=0.0, enabled=True, embedding_dim=None, qr_embed=False, qr_collisions=None),\n Feature(name='cos_hour_day', sparse=False, type=tf.float32, cardinality=1, default_value=0.0, enabled=True, embedding_dim=None, qr_embed=False, qr_collisions=None),\n Feature(name='sin_minute_hour', sparse=False, type=tf.float32, cardinality=1, default_value=0.0, enabled=True, embedding_dim=None, qr_embed=False, qr_collisions=None),\n Feature(name='cos_minute_hour', sparse=False, type=tf.float32, cardinality=1, default_value=0.0, enabled=True, embedding_dim=None, qr_embed=False, qr_collisions=None),\n Feature(name='sin_hour_week', sparse=False, type=tf.float32, cardinality=1, default_value=0.0, enabled=True, embedding_dim=None, qr_embed=False, qr_collisions=None),\n Feature(name='cos_hour_week', sparse=False, type=tf.float32, cardinality=1, default_value=0.0, enabled=True, embedding_dim=None, qr_embed=False, qr_collisions=None),\n Feature(name='latitude', sparse=False, type=tf.float32, cardinality=1, default_value=0.0, enabled=True, embedding_dim=None, qr_embed=False, qr_collisions=None),\n Feature(name='longitude', sparse=False, type=tf.float32, cardinality=1, default_value=0.0, enabled=True, embedding_dim=None, qr_embed=False, qr_collisions=None)]"
     },
     "execution_count": 3,
     "metadata": {},
     "output_type": "execute_result"
    }
   ],
   "source": [
    "# Reduced set of features\n",
    "\n",
    "reduced_model_features = get_model_features([\"DealId\", \"AdFormat\", \"ImpressionPlacementId\"])\n",
    "reduced_model_features\n"
   ],
   "metadata": {
    "collapsed": false,
    "pycharm": {
     "name": "#%%\n"
    }
   }
  },
  {
   "cell_type": "code",
   "execution_count": 4,
   "outputs": [
    {
     "name": "stdout",
     "output_type": "stream",
     "text": [
      "outputs {\n",
      "  key: \"params\"\n",
      "  value {\n",
      "    dtype: DT_FLOAT\n",
      "    tensor_shape {\n",
      "      dim {\n",
      "        size: 1\n",
      "      }\n",
      "      dim {\n",
      "        size: 2\n",
      "      }\n",
      "    }\n",
      "    float_val: -2.4589922428131104\n",
      "    float_val: 1.0099029541015625\n",
      "  }\n",
      "}\n",
      "model_spec {\n",
      "  name: \"test\"\n",
      "  version {\n",
      "    value: 1\n",
      "  }\n",
      "  signature_name: \"serving_default\"\n",
      "}\n",
      "\n"
     ]
    }
   ],
   "source": [
    "# Check that the model_spec is sent for all requests\n",
    "# It is.\n",
    "\n",
    "\n",
    "stub = prediction_service_pb2_grpc.PredictionServiceStub(channel)\n",
    "req = generate_random_grpc_query(reduced_model_features, \"test\")\n",
    "req\n",
    "resp = send_grpc_request(stub, req)\n",
    "print(resp)\n"
   ],
   "metadata": {
    "collapsed": false,
    "pycharm": {
     "name": "#%%\n"
    }
   }
  },
  {
   "cell_type": "code",
   "source": [
    "stub = prediction_service_pb2_grpc.PredictionServiceStub(channel)\n",
    "resp = send_grpc_request(stub, generate_random_grpc_query(default_model_features, \"test\", \"prod\"))\n",
    "print(resp)"
   ],
   "metadata": {
    "collapsed": false,
    "pycharm": {
     "name": "#%%\n"
    }
   },
   "execution_count": null,
   "outputs": []
  },
  {
   "cell_type": "code",
   "source": [
    "stub = prediction_service_pb2_grpc.PredictionServiceStub(channel)\n",
    "resp = send_grpc_request(stub, generate_random_grpc_query(default_model_features, \"test\", \"test\"))\n",
    "print(resp)\n",
    "\n"
   ],
   "metadata": {
    "collapsed": false,
    "pycharm": {
     "name": "#%%\n"
    }
   },
   "execution_count": null,
   "outputs": []
  },
  {
   "cell_type": "code",
   "execution_count": 2,
   "outputs": [
    {
     "data": {
      "text/plain": "    SupplyVendor  DealId  SupplyVendorPublisherId  SupplyVendorSiteId    Site  \\\n0             81    4558                     3033                  74  235099   \n1             63     518                     6672                  82  123801   \n2             93     856                     5381                  82   47547   \n3             11    2149                     7810                  82  268013   \n4             40     254                     3954                  81  328768   \n..           ...     ...                      ...                 ...     ...   \n95            48    4670                     7766                  12  167070   \n96            42     972                     9546                  36  308062   \n97            22    2762                    13011                  82  214451   \n98            82    1566                     8844                  48  324233   \n99            18    4708                    10606                  76  215030   \n\n    AdFormat  ImpressionPlacementId  Country  Region  Metro  ...  \\\n0         15                     46      141    2620     55  ...   \n1          2                     27      152     841    268  ...   \n2         95                     14      106    3856    218  ...   \n3         12                     95       59    1734    248  ...   \n4         34                      9      233    1894     64  ...   \n..       ...                    ...      ...     ...    ...  ...   \n95        87                      9      131    1463     66  ...   \n96        93                     58       55     763    298  ...   \n97        21                     24      206    1413    128  ...   \n98        31                     78      152     966    256  ...   \n99        57                     45      129    3086    277  ...   \n\n    OperatingSystemFamily  Browser  sin_hour_day  cos_hour_day  \\\n0                       9        2      0.613107      0.286050   \n1                       7       19      0.205387      0.540049   \n2                       1       18      0.835652      0.495238   \n3                       6        3      0.311508      0.058138   \n4                       8       16      0.812075      0.370757   \n..                    ...      ...           ...           ...   \n95                      1       12      0.199678      0.644879   \n96                      6       16      0.604036      0.665467   \n97                      8       14      0.898811      0.491686   \n98                      0        5      0.629389      0.648813   \n99                      7       15      0.967331      0.743634   \n\n    sin_minute_hour  cos_minute_hour  sin_hour_week  cos_hour_week  latitude  \\\n0          0.464445         0.959238       0.728575       0.508642  0.998087   \n1          0.675869         0.945711       0.825966       0.875394  0.670808   \n2          0.365037         0.571576       0.878145       0.341853  0.643675   \n3          0.906627         0.544105       0.851513       0.328716  0.346650   \n4          0.963082         0.708302       0.523519       0.757354  0.958157   \n..              ...              ...            ...            ...       ...   \n95         0.513258         0.685122       0.055030       0.014696  0.321422   \n96         0.396411         0.771576       0.072035       0.482076  0.258869   \n97         0.480014         0.208571       0.326156       0.001399  0.385552   \n98         0.021047         0.416743       0.147122       0.050107  0.108664   \n99         0.610540         0.041110       0.822755       0.853654  0.266311   \n\n    longitude  \n0    0.447324  \n1    0.059899  \n2    0.419660  \n3    0.297661  \n4    0.506476  \n..        ...  \n95   0.652607  \n96   0.067702  \n97   0.404944  \n98   0.181052  \n99   0.969830  \n\n[100 rows x 30 columns]",
      "text/html": "<div>\n<style scoped>\n    .dataframe tbody tr th:only-of-type {\n        vertical-align: middle;\n    }\n\n    .dataframe tbody tr th {\n        vertical-align: top;\n    }\n\n    .dataframe thead th {\n        text-align: right;\n    }\n</style>\n<table border=\"1\" class=\"dataframe\">\n  <thead>\n    <tr style=\"text-align: right;\">\n      <th></th>\n      <th>SupplyVendor</th>\n      <th>DealId</th>\n      <th>SupplyVendorPublisherId</th>\n      <th>SupplyVendorSiteId</th>\n      <th>Site</th>\n      <th>AdFormat</th>\n      <th>ImpressionPlacementId</th>\n      <th>Country</th>\n      <th>Region</th>\n      <th>Metro</th>\n      <th>...</th>\n      <th>OperatingSystemFamily</th>\n      <th>Browser</th>\n      <th>sin_hour_day</th>\n      <th>cos_hour_day</th>\n      <th>sin_minute_hour</th>\n      <th>cos_minute_hour</th>\n      <th>sin_hour_week</th>\n      <th>cos_hour_week</th>\n      <th>latitude</th>\n      <th>longitude</th>\n    </tr>\n  </thead>\n  <tbody>\n    <tr>\n      <th>0</th>\n      <td>81</td>\n      <td>4558</td>\n      <td>3033</td>\n      <td>74</td>\n      <td>235099</td>\n      <td>15</td>\n      <td>46</td>\n      <td>141</td>\n      <td>2620</td>\n      <td>55</td>\n      <td>...</td>\n      <td>9</td>\n      <td>2</td>\n      <td>0.613107</td>\n      <td>0.286050</td>\n      <td>0.464445</td>\n      <td>0.959238</td>\n      <td>0.728575</td>\n      <td>0.508642</td>\n      <td>0.998087</td>\n      <td>0.447324</td>\n    </tr>\n    <tr>\n      <th>1</th>\n      <td>63</td>\n      <td>518</td>\n      <td>6672</td>\n      <td>82</td>\n      <td>123801</td>\n      <td>2</td>\n      <td>27</td>\n      <td>152</td>\n      <td>841</td>\n      <td>268</td>\n      <td>...</td>\n      <td>7</td>\n      <td>19</td>\n      <td>0.205387</td>\n      <td>0.540049</td>\n      <td>0.675869</td>\n      <td>0.945711</td>\n      <td>0.825966</td>\n      <td>0.875394</td>\n      <td>0.670808</td>\n      <td>0.059899</td>\n    </tr>\n    <tr>\n      <th>2</th>\n      <td>93</td>\n      <td>856</td>\n      <td>5381</td>\n      <td>82</td>\n      <td>47547</td>\n      <td>95</td>\n      <td>14</td>\n      <td>106</td>\n      <td>3856</td>\n      <td>218</td>\n      <td>...</td>\n      <td>1</td>\n      <td>18</td>\n      <td>0.835652</td>\n      <td>0.495238</td>\n      <td>0.365037</td>\n      <td>0.571576</td>\n      <td>0.878145</td>\n      <td>0.341853</td>\n      <td>0.643675</td>\n      <td>0.419660</td>\n    </tr>\n    <tr>\n      <th>3</th>\n      <td>11</td>\n      <td>2149</td>\n      <td>7810</td>\n      <td>82</td>\n      <td>268013</td>\n      <td>12</td>\n      <td>95</td>\n      <td>59</td>\n      <td>1734</td>\n      <td>248</td>\n      <td>...</td>\n      <td>6</td>\n      <td>3</td>\n      <td>0.311508</td>\n      <td>0.058138</td>\n      <td>0.906627</td>\n      <td>0.544105</td>\n      <td>0.851513</td>\n      <td>0.328716</td>\n      <td>0.346650</td>\n      <td>0.297661</td>\n    </tr>\n    <tr>\n      <th>4</th>\n      <td>40</td>\n      <td>254</td>\n      <td>3954</td>\n      <td>81</td>\n      <td>328768</td>\n      <td>34</td>\n      <td>9</td>\n      <td>233</td>\n      <td>1894</td>\n      <td>64</td>\n      <td>...</td>\n      <td>8</td>\n      <td>16</td>\n      <td>0.812075</td>\n      <td>0.370757</td>\n      <td>0.963082</td>\n      <td>0.708302</td>\n      <td>0.523519</td>\n      <td>0.757354</td>\n      <td>0.958157</td>\n      <td>0.506476</td>\n    </tr>\n    <tr>\n      <th>...</th>\n      <td>...</td>\n      <td>...</td>\n      <td>...</td>\n      <td>...</td>\n      <td>...</td>\n      <td>...</td>\n      <td>...</td>\n      <td>...</td>\n      <td>...</td>\n      <td>...</td>\n      <td>...</td>\n      <td>...</td>\n      <td>...</td>\n      <td>...</td>\n      <td>...</td>\n      <td>...</td>\n      <td>...</td>\n      <td>...</td>\n      <td>...</td>\n      <td>...</td>\n      <td>...</td>\n    </tr>\n    <tr>\n      <th>95</th>\n      <td>48</td>\n      <td>4670</td>\n      <td>7766</td>\n      <td>12</td>\n      <td>167070</td>\n      <td>87</td>\n      <td>9</td>\n      <td>131</td>\n      <td>1463</td>\n      <td>66</td>\n      <td>...</td>\n      <td>1</td>\n      <td>12</td>\n      <td>0.199678</td>\n      <td>0.644879</td>\n      <td>0.513258</td>\n      <td>0.685122</td>\n      <td>0.055030</td>\n      <td>0.014696</td>\n      <td>0.321422</td>\n      <td>0.652607</td>\n    </tr>\n    <tr>\n      <th>96</th>\n      <td>42</td>\n      <td>972</td>\n      <td>9546</td>\n      <td>36</td>\n      <td>308062</td>\n      <td>93</td>\n      <td>58</td>\n      <td>55</td>\n      <td>763</td>\n      <td>298</td>\n      <td>...</td>\n      <td>6</td>\n      <td>16</td>\n      <td>0.604036</td>\n      <td>0.665467</td>\n      <td>0.396411</td>\n      <td>0.771576</td>\n      <td>0.072035</td>\n      <td>0.482076</td>\n      <td>0.258869</td>\n      <td>0.067702</td>\n    </tr>\n    <tr>\n      <th>97</th>\n      <td>22</td>\n      <td>2762</td>\n      <td>13011</td>\n      <td>82</td>\n      <td>214451</td>\n      <td>21</td>\n      <td>24</td>\n      <td>206</td>\n      <td>1413</td>\n      <td>128</td>\n      <td>...</td>\n      <td>8</td>\n      <td>14</td>\n      <td>0.898811</td>\n      <td>0.491686</td>\n      <td>0.480014</td>\n      <td>0.208571</td>\n      <td>0.326156</td>\n      <td>0.001399</td>\n      <td>0.385552</td>\n      <td>0.404944</td>\n    </tr>\n    <tr>\n      <th>98</th>\n      <td>82</td>\n      <td>1566</td>\n      <td>8844</td>\n      <td>48</td>\n      <td>324233</td>\n      <td>31</td>\n      <td>78</td>\n      <td>152</td>\n      <td>966</td>\n      <td>256</td>\n      <td>...</td>\n      <td>0</td>\n      <td>5</td>\n      <td>0.629389</td>\n      <td>0.648813</td>\n      <td>0.021047</td>\n      <td>0.416743</td>\n      <td>0.147122</td>\n      <td>0.050107</td>\n      <td>0.108664</td>\n      <td>0.181052</td>\n    </tr>\n    <tr>\n      <th>99</th>\n      <td>18</td>\n      <td>4708</td>\n      <td>10606</td>\n      <td>76</td>\n      <td>215030</td>\n      <td>57</td>\n      <td>45</td>\n      <td>129</td>\n      <td>3086</td>\n      <td>277</td>\n      <td>...</td>\n      <td>7</td>\n      <td>15</td>\n      <td>0.967331</td>\n      <td>0.743634</td>\n      <td>0.610540</td>\n      <td>0.041110</td>\n      <td>0.822755</td>\n      <td>0.853654</td>\n      <td>0.266311</td>\n      <td>0.969830</td>\n    </tr>\n  </tbody>\n</table>\n<p>100 rows × 30 columns</p>\n</div>"
     },
     "execution_count": 2,
     "metadata": {},
     "output_type": "execute_result"
    }
   ],
   "source": [
    "x, y = generate_random_pandas(default_model_features, default_model_targets, 100)\n",
    "x"
   ],
   "metadata": {
    "collapsed": false,
    "pycharm": {
     "name": "#%%\n"
    }
   }
  },
  {
   "cell_type": "code",
   "execution_count": 3,
   "outputs": [],
   "source": [
    "ds = tf.data.Dataset.from_tensor_slices((x, y))"
   ],
   "metadata": {
    "collapsed": false,
    "pycharm": {
     "name": "#%%\n"
    }
   }
  },
  {
   "cell_type": "code",
   "execution_count": 4,
   "outputs": [
    {
     "name": "stdout",
     "output_type": "stream",
     "text": [
      "tf.Tensor(\n",
      "[[8.10000000e+01 4.55800000e+03 3.03300000e+03 7.40000000e+01\n",
      "  2.35099000e+05 1.50000000e+01 4.60000000e+01 1.41000000e+02\n",
      "  2.62000000e+03 5.50000000e+01 2.08200000e+04 4.61010000e+04\n",
      "  7.19000000e+02 2.58500000e+03 2.64000000e+02 1.00000000e+00\n",
      "  3.90000000e+01 4.00000000e+00 0.00000000e+00 4.00000000e+00\n",
      "  9.00000000e+00 2.00000000e+00 6.13106602e-01 2.86049924e-01\n",
      "  4.64444985e-01 9.59237998e-01 7.28574848e-01 5.08641660e-01\n",
      "  9.98086825e-01 4.47323799e-01]], shape=(1, 30), dtype=float64)\n",
      "tf.Tensor([[0.11560559 0.26812042 0.17970432 0.42399712 0.1107953 ]], shape=(1, 5), dtype=float64)\n",
      "tf.Tensor(\n",
      "[[6.30000000e+01 5.18000000e+02 6.67200000e+03 8.20000000e+01\n",
      "  1.23801000e+05 2.00000000e+00 2.70000000e+01 1.52000000e+02\n",
      "  8.41000000e+02 2.68000000e+02 6.80800000e+03 3.26790000e+04\n",
      "  4.10000000e+01 2.67000000e+02 2.07000000e+02 4.00000000e+00\n",
      "  1.54000000e+02 4.00000000e+00 1.00000000e+00 6.00000000e+00\n",
      "  7.00000000e+00 1.90000000e+01 2.05386947e-01 5.40048847e-01\n",
      "  6.75868596e-01 9.45710538e-01 8.25965738e-01 8.75393707e-01\n",
      "  6.70808359e-01 5.98986397e-02]], shape=(1, 30), dtype=float64)\n",
      "tf.Tensor([[0.8696407  0.08318151 0.86934201 0.85858146 0.08396467]], shape=(1, 5), dtype=float64)\n",
      "tf.Tensor(\n",
      "[[9.30000000e+01 8.56000000e+02 5.38100000e+03 8.20000000e+01\n",
      "  4.75470000e+04 9.50000000e+01 1.40000000e+01 1.06000000e+02\n",
      "  3.85600000e+03 2.18000000e+02 5.13040000e+04 3.77890000e+04\n",
      "  4.35000000e+02 3.95900000e+03 4.22000000e+02 3.00000000e+00\n",
      "  1.00000000e+00 1.00000000e+00 0.00000000e+00 2.00000000e+00\n",
      "  1.00000000e+00 1.80000000e+01 8.35652344e-01 4.95237507e-01\n",
      "  3.65036802e-01 5.71576080e-01 8.78144765e-01 3.41852564e-01\n",
      "  6.43674526e-01 4.19660298e-01]], shape=(1, 30), dtype=float64)\n",
      "tf.Tensor([[0.9411947  0.61549534 0.70671048 0.68559328 0.5347457 ]], shape=(1, 5), dtype=float64)\n"
     ]
    }
   ],
   "source": [
    "for a,b in ds.batch(1).take(3):\n",
    "    print(a)\n",
    "    print(b)"
   ],
   "metadata": {
    "collapsed": false,
    "pycharm": {
     "name": "#%%\n"
    }
   }
  },
  {
   "cell_type": "code",
   "execution_count": null,
   "outputs": [],
   "source": [],
   "metadata": {
    "collapsed": false,
    "pycharm": {
     "name": "#%%\n"
    }
   }
  }
 ],
 "metadata": {
  "kernelspec": {
   "display_name": "Python 3",
   "language": "python",
   "name": "python3"
  },
  "language_info": {
   "codemirror_mode": {
    "name": "ipython",
    "version": 2
   },
   "file_extension": ".py",
   "mimetype": "text/x-python",
   "name": "python",
   "nbconvert_exporter": "python",
   "pygments_lexer": "ipython2",
   "version": "2.7.6"
  }
 },
 "nbformat": 4,
 "nbformat_minor": 0
}